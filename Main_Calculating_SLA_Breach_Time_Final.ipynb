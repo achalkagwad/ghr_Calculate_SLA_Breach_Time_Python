{
 "cells": [
  {
   "cell_type": "code",
   "execution_count": 1,
   "metadata": {},
   "outputs": [],
   "source": [
    "# Suppressing Warnings\n",
    "import warnings\n",
    "warnings.filterwarnings('ignore')"
   ]
  },
  {
   "cell_type": "code",
   "execution_count": 2,
   "metadata": {},
   "outputs": [],
   "source": [
    "# Importing important libraries Pandas and NumPy matpotlib and seaborn\n",
    "import pandas as pd, numpy as np\n",
    "import seaborn as sns\n",
    "\n",
    "#To generate breakpoints\n",
    "from IPython.core.debugger import set_trace\n",
    "\n",
    "#Settings on Pandas\n",
    "pd.set_option('display.max_columns', None)\n",
    "pd.set_option('display.max_rows', None)\n",
    "\n",
    "# For Visualisation\n",
    "import matplotlib.pyplot as plt\n",
    "import seaborn as sns\n",
    "%matplotlib inline\n",
    "import matplotlib\n",
    "\n",
    "# Miscellaneous imports\n",
    "from datetime import datetime\n",
    "from scipy.stats import norm\n",
    "import re\n",
    "\n",
    "from datetime import datetime, timedelta"
   ]
  },
  {
   "cell_type": "code",
   "execution_count": 3,
   "metadata": {},
   "outputs": [
    {
     "data": {
      "text/html": [
       "<div>\n",
       "<style scoped>\n",
       "    .dataframe tbody tr th:only-of-type {\n",
       "        vertical-align: middle;\n",
       "    }\n",
       "\n",
       "    .dataframe tbody tr th {\n",
       "        vertical-align: top;\n",
       "    }\n",
       "\n",
       "    .dataframe thead th {\n",
       "        text-align: right;\n",
       "    }\n",
       "</style>\n",
       "<table border=\"1\" class=\"dataframe\">\n",
       "  <thead>\n",
       "    <tr style=\"text-align: right;\">\n",
       "      <th></th>\n",
       "      <th>Request Number</th>\n",
       "      <th>Location</th>\n",
       "      <th>Approved date &amp; Time  (PST )</th>\n",
       "      <th>SLA breach Time</th>\n",
       "    </tr>\n",
       "  </thead>\n",
       "  <tbody>\n",
       "    <tr>\n",
       "      <th>0</th>\n",
       "      <td>A001</td>\n",
       "      <td>USA</td>\n",
       "      <td>2020-02-01 02:43:00</td>\n",
       "      <td>NaN</td>\n",
       "    </tr>\n",
       "    <tr>\n",
       "      <th>1</th>\n",
       "      <td>A002</td>\n",
       "      <td>USA</td>\n",
       "      <td>2020-01-29 23:18:00</td>\n",
       "      <td>NaN</td>\n",
       "    </tr>\n",
       "    <tr>\n",
       "      <th>2</th>\n",
       "      <td>A003</td>\n",
       "      <td>USA</td>\n",
       "      <td>2020-02-01 02:55:00</td>\n",
       "      <td>NaN</td>\n",
       "    </tr>\n",
       "    <tr>\n",
       "      <th>3</th>\n",
       "      <td>A004</td>\n",
       "      <td>USA</td>\n",
       "      <td>2020-02-01 04:06:00</td>\n",
       "      <td>NaN</td>\n",
       "    </tr>\n",
       "    <tr>\n",
       "      <th>4</th>\n",
       "      <td>A005</td>\n",
       "      <td>USA</td>\n",
       "      <td>2020-01-30 00:12:00</td>\n",
       "      <td>NaN</td>\n",
       "    </tr>\n",
       "  </tbody>\n",
       "</table>\n",
       "</div>"
      ],
      "text/plain": [
       "  Request Number  Location  Approved date & Time  (PST )  SLA breach Time \n",
       "0            A001       USA          2020-02-01 02:43:00               NaN\n",
       "1            A002       USA          2020-01-29 23:18:00               NaN\n",
       "2            A003       USA          2020-02-01 02:55:00               NaN\n",
       "3            A004       USA          2020-02-01 04:06:00               NaN\n",
       "4            A005       USA          2020-01-30 00:12:00               NaN"
      ]
     },
     "execution_count": 3,
     "metadata": {},
     "output_type": "execute_result"
    }
   ],
   "source": [
    "# Importing all datasets: Mention Relative path to input data set\n",
    "sla_df = pd.read_excel (r'./data/input_data_files/sla_breach_time.xlsx')\n",
    "sla_df_orig=sla_df\n",
    "sla_df.head()"
   ]
  },
  {
   "cell_type": "code",
   "execution_count": 4,
   "metadata": {},
   "outputs": [
    {
     "name": "stdout",
     "output_type": "stream",
     "text": [
      "(4164, 4)\n"
     ]
    }
   ],
   "source": [
    "print(sla_df.shape)"
   ]
  },
  {
   "cell_type": "code",
   "execution_count": 5,
   "metadata": {},
   "outputs": [
    {
     "name": "stdout",
     "output_type": "stream",
     "text": [
      "<class 'pandas.core.frame.DataFrame'>\n",
      "RangeIndex: 4164 entries, 0 to 4163\n",
      "Data columns (total 4 columns):\n",
      " #   Column                        Non-Null Count  Dtype  \n",
      "---  ------                        --------------  -----  \n",
      " 0   Request Number                4164 non-null   object \n",
      " 1   Location                      4164 non-null   object \n",
      " 2   Approved date & Time  (PST )  4164 non-null   object \n",
      " 3   SLA breach Time               0 non-null      float64\n",
      "dtypes: float64(1), object(3)\n",
      "memory usage: 130.2+ KB\n"
     ]
    }
   ],
   "source": [
    "sla_df.info()"
   ]
  },
  {
   "cell_type": "code",
   "execution_count": 6,
   "metadata": {},
   "outputs": [
    {
     "name": "stdout",
     "output_type": "stream",
     "text": [
      "Index(['Request Number ', 'Location ', 'Approved date & Time  (PST )',\n",
      "       'SLA breach Time '],\n",
      "      dtype='object')\n",
      "Index(['Request_Number', 'Location', 'Approved_Date_Time', 'SLA_Breach_Time'], dtype='object')\n"
     ]
    }
   ],
   "source": [
    "# Before renaming the columns\n",
    "print(sla_df.columns)\n",
    "  \n",
    "sla_df.columns = ['Request_Number', 'Location', 'Approved_Date_Time','SLA_Breach_Time']\n",
    "  \n",
    "# After renaming the columns\n",
    "print(sla_df.columns)"
   ]
  },
  {
   "cell_type": "code",
   "execution_count": 7,
   "metadata": {},
   "outputs": [
    {
     "data": {
      "text/plain": [
       "Request_Number         object\n",
       "Location               object\n",
       "Approved_Date_Time     object\n",
       "SLA_Breach_Time       float64\n",
       "dtype: object"
      ]
     },
     "execution_count": 7,
     "metadata": {},
     "output_type": "execute_result"
    }
   ],
   "source": [
    "sla_df.dtypes"
   ]
  },
  {
   "cell_type": "code",
   "execution_count": 8,
   "metadata": {},
   "outputs": [
    {
     "data": {
      "text/html": [
       "<div>\n",
       "<style scoped>\n",
       "    .dataframe tbody tr th:only-of-type {\n",
       "        vertical-align: middle;\n",
       "    }\n",
       "\n",
       "    .dataframe tbody tr th {\n",
       "        vertical-align: top;\n",
       "    }\n",
       "\n",
       "    .dataframe thead th {\n",
       "        text-align: right;\n",
       "    }\n",
       "</style>\n",
       "<table border=\"1\" class=\"dataframe\">\n",
       "  <thead>\n",
       "    <tr style=\"text-align: right;\">\n",
       "      <th></th>\n",
       "      <th>Request_Number</th>\n",
       "      <th>Location</th>\n",
       "      <th>Approved_Date_Time</th>\n",
       "      <th>SLA_Breach_Time</th>\n",
       "    </tr>\n",
       "  </thead>\n",
       "  <tbody>\n",
       "    <tr>\n",
       "      <th>0</th>\n",
       "      <td>A001</td>\n",
       "      <td>USA</td>\n",
       "      <td>2020-02-01 02:43:00</td>\n",
       "      <td>NaN</td>\n",
       "    </tr>\n",
       "    <tr>\n",
       "      <th>1</th>\n",
       "      <td>A002</td>\n",
       "      <td>USA</td>\n",
       "      <td>2020-01-29 23:18:00</td>\n",
       "      <td>NaN</td>\n",
       "    </tr>\n",
       "  </tbody>\n",
       "</table>\n",
       "</div>"
      ],
      "text/plain": [
       "  Request_Number Location   Approved_Date_Time  SLA_Breach_Time\n",
       "0           A001      USA  2020-02-01 02:43:00              NaN\n",
       "1           A002      USA  2020-01-29 23:18:00              NaN"
      ]
     },
     "execution_count": 8,
     "metadata": {},
     "output_type": "execute_result"
    }
   ],
   "source": [
    "sla_df.head(2)"
   ]
  },
  {
   "cell_type": "code",
   "execution_count": 9,
   "metadata": {},
   "outputs": [],
   "source": [
    "sla_df.drop(['SLA_Breach_Time'], axis = 1,inplace=True)"
   ]
  },
  {
   "cell_type": "code",
   "execution_count": 10,
   "metadata": {},
   "outputs": [
    {
     "name": "stdout",
     "output_type": "stream",
     "text": [
      "<class 'pandas.core.frame.DataFrame'>\n",
      "RangeIndex: 4164 entries, 0 to 4163\n",
      "Data columns (total 3 columns):\n",
      " #   Column              Non-Null Count  Dtype \n",
      "---  ------              --------------  ----- \n",
      " 0   Request_Number      4164 non-null   object\n",
      " 1   Location            4164 non-null   object\n",
      " 2   Approved_Date_Time  4164 non-null   object\n",
      "dtypes: object(3)\n",
      "memory usage: 97.7+ KB\n"
     ]
    }
   ],
   "source": [
    "sla_df.info()"
   ]
  },
  {
   "cell_type": "code",
   "execution_count": 11,
   "metadata": {},
   "outputs": [],
   "source": [
    "# Object to datetime: \n",
    "# sla_df['Approved_Date_Time'] =  pd.to_datetime(sla_df['Approved_Date_Time'], format='%Y-%m-%d %H:%M:%S')\n",
    "# sla_df['Approved_Date_Time'] =  pd.to_datetime(sla_df['Approved_Date_Time']) #format='%d-%m-%Y %H:%M:%S'"
   ]
  },
  {
   "cell_type": "code",
   "execution_count": 12,
   "metadata": {},
   "outputs": [
    {
     "data": {
      "text/plain": [
       "(80, 3)"
      ]
     },
     "execution_count": 12,
     "metadata": {},
     "output_type": "execute_result"
    }
   ],
   "source": [
    "# For simplicity sake we just work on the first 80 records, the underlying logic will hold true for all records\n",
    "sla_df_80=sla_df.head(80)\n",
    "sla_df_80.shape"
   ]
  },
  {
   "cell_type": "code",
   "execution_count": 13,
   "metadata": {},
   "outputs": [
    {
     "data": {
      "text/html": [
       "<div>\n",
       "<style scoped>\n",
       "    .dataframe tbody tr th:only-of-type {\n",
       "        vertical-align: middle;\n",
       "    }\n",
       "\n",
       "    .dataframe tbody tr th {\n",
       "        vertical-align: top;\n",
       "    }\n",
       "\n",
       "    .dataframe thead th {\n",
       "        text-align: right;\n",
       "    }\n",
       "</style>\n",
       "<table border=\"1\" class=\"dataframe\">\n",
       "  <thead>\n",
       "    <tr style=\"text-align: right;\">\n",
       "      <th></th>\n",
       "      <th>Request_Number</th>\n",
       "      <th>Location</th>\n",
       "      <th>Approved_Date_Time</th>\n",
       "    </tr>\n",
       "  </thead>\n",
       "  <tbody>\n",
       "    <tr>\n",
       "      <th>0</th>\n",
       "      <td>A001</td>\n",
       "      <td>USA</td>\n",
       "      <td>2020-02-01 02:43:00</td>\n",
       "    </tr>\n",
       "    <tr>\n",
       "      <th>1</th>\n",
       "      <td>A002</td>\n",
       "      <td>USA</td>\n",
       "      <td>2020-01-29 23:18:00</td>\n",
       "    </tr>\n",
       "  </tbody>\n",
       "</table>\n",
       "</div>"
      ],
      "text/plain": [
       "  Request_Number Location   Approved_Date_Time\n",
       "0           A001      USA  2020-02-01 02:43:00\n",
       "1           A002      USA  2020-01-29 23:18:00"
      ]
     },
     "execution_count": 13,
     "metadata": {},
     "output_type": "execute_result"
    }
   ],
   "source": [
    "sla_df_80.head(2)"
   ]
  },
  {
   "cell_type": "code",
   "execution_count": 14,
   "metadata": {},
   "outputs": [
    {
     "name": "stdout",
     "output_type": "stream",
     "text": [
      "<class 'datetime.datetime'>\n"
     ]
    }
   ],
   "source": [
    "# verify datatype : its <class 'datetime.datetime'>\n",
    "print(type(sla_df_80.Approved_Date_Time[0]))"
   ]
  },
  {
   "cell_type": "code",
   "execution_count": 15,
   "metadata": {},
   "outputs": [],
   "source": [
    "# Object to datetime\n",
    "# sla_df['Approved_Date_Time'] =  pd.to_datetime(sla_df['Approved_Date_Time'], format='%Y-%m-%d %H:%M:%S')\n",
    "sla_df_80['Approved_Date_Time'] =  pd.to_datetime(sla_df_80['Approved_Date_Time']) #format='%d-%m-%Y %H:%M:%S'"
   ]
  },
  {
   "cell_type": "code",
   "execution_count": 16,
   "metadata": {},
   "outputs": [
    {
     "name": "stdout",
     "output_type": "stream",
     "text": [
      "<class 'pandas._libs.tslibs.timestamps.Timestamp'>\n"
     ]
    }
   ],
   "source": [
    "# verify datatype: its <class 'pandas._libs.tslibs.timestamps.Timestamp'>\n",
    "print(type(sla_df_80.Approved_Date_Time[0]))"
   ]
  },
  {
   "cell_type": "markdown",
   "metadata": {},
   "source": [
    "#### Format of `Approved_Date_Time` is yyyy-mm-dd"
   ]
  },
  {
   "cell_type": "code",
   "execution_count": 17,
   "metadata": {},
   "outputs": [
    {
     "name": "stdout",
     "output_type": "stream",
     "text": [
      "<class 'pandas.core.frame.DataFrame'>\n",
      "RangeIndex: 80 entries, 0 to 79\n",
      "Data columns (total 3 columns):\n",
      " #   Column              Non-Null Count  Dtype         \n",
      "---  ------              --------------  -----         \n",
      " 0   Request_Number      80 non-null     object        \n",
      " 1   Location            80 non-null     object        \n",
      " 2   Approved_Date_Time  80 non-null     datetime64[ns]\n",
      "dtypes: datetime64[ns](1), object(2)\n",
      "memory usage: 2.0+ KB\n"
     ]
    }
   ],
   "source": [
    "sla_df_80.info()"
   ]
  },
  {
   "cell_type": "code",
   "execution_count": 18,
   "metadata": {},
   "outputs": [],
   "source": [
    "sla_df_80[\"Is_Weekend\"] = sla_df_80.Approved_Date_Time.dt.day_name().isin(['Saturday', 'Sunday'])"
   ]
  },
  {
   "cell_type": "code",
   "execution_count": 19,
   "metadata": {},
   "outputs": [
    {
     "name": "stdout",
     "output_type": "stream",
     "text": [
      "<class 'pandas.core.frame.DataFrame'>\n",
      "RangeIndex: 80 entries, 0 to 79\n",
      "Data columns (total 4 columns):\n",
      " #   Column              Non-Null Count  Dtype         \n",
      "---  ------              --------------  -----         \n",
      " 0   Request_Number      80 non-null     object        \n",
      " 1   Location            80 non-null     object        \n",
      " 2   Approved_Date_Time  80 non-null     datetime64[ns]\n",
      " 3   Is_Weekend          80 non-null     bool          \n",
      "dtypes: bool(1), datetime64[ns](1), object(2)\n",
      "memory usage: 2.1+ KB\n"
     ]
    }
   ],
   "source": [
    "sla_df_80.info()"
   ]
  },
  {
   "cell_type": "code",
   "execution_count": 20,
   "metadata": {},
   "outputs": [
    {
     "data": {
      "text/html": [
       "<div>\n",
       "<style scoped>\n",
       "    .dataframe tbody tr th:only-of-type {\n",
       "        vertical-align: middle;\n",
       "    }\n",
       "\n",
       "    .dataframe tbody tr th {\n",
       "        vertical-align: top;\n",
       "    }\n",
       "\n",
       "    .dataframe thead th {\n",
       "        text-align: right;\n",
       "    }\n",
       "</style>\n",
       "<table border=\"1\" class=\"dataframe\">\n",
       "  <thead>\n",
       "    <tr style=\"text-align: right;\">\n",
       "      <th></th>\n",
       "      <th>Request_Number</th>\n",
       "      <th>Location</th>\n",
       "      <th>Approved_Date_Time</th>\n",
       "      <th>Is_Weekend</th>\n",
       "    </tr>\n",
       "  </thead>\n",
       "  <tbody>\n",
       "    <tr>\n",
       "      <th>0</th>\n",
       "      <td>A001</td>\n",
       "      <td>USA</td>\n",
       "      <td>2020-02-01 02:43:00</td>\n",
       "      <td>True</td>\n",
       "    </tr>\n",
       "    <tr>\n",
       "      <th>1</th>\n",
       "      <td>A002</td>\n",
       "      <td>USA</td>\n",
       "      <td>2020-01-29 23:18:00</td>\n",
       "      <td>False</td>\n",
       "    </tr>\n",
       "    <tr>\n",
       "      <th>2</th>\n",
       "      <td>A003</td>\n",
       "      <td>USA</td>\n",
       "      <td>2020-02-01 02:55:00</td>\n",
       "      <td>True</td>\n",
       "    </tr>\n",
       "    <tr>\n",
       "      <th>3</th>\n",
       "      <td>A004</td>\n",
       "      <td>USA</td>\n",
       "      <td>2020-02-01 04:06:00</td>\n",
       "      <td>True</td>\n",
       "    </tr>\n",
       "    <tr>\n",
       "      <th>4</th>\n",
       "      <td>A005</td>\n",
       "      <td>USA</td>\n",
       "      <td>2020-01-30 00:12:00</td>\n",
       "      <td>False</td>\n",
       "    </tr>\n",
       "    <tr>\n",
       "      <th>5</th>\n",
       "      <td>A006</td>\n",
       "      <td>USA</td>\n",
       "      <td>2020-02-05 00:00:00</td>\n",
       "      <td>False</td>\n",
       "    </tr>\n",
       "    <tr>\n",
       "      <th>6</th>\n",
       "      <td>A007</td>\n",
       "      <td>USA</td>\n",
       "      <td>2020-01-30 00:11:00</td>\n",
       "      <td>False</td>\n",
       "    </tr>\n",
       "    <tr>\n",
       "      <th>7</th>\n",
       "      <td>A008</td>\n",
       "      <td>USA</td>\n",
       "      <td>2020-02-01 03:44:00</td>\n",
       "      <td>True</td>\n",
       "    </tr>\n",
       "    <tr>\n",
       "      <th>8</th>\n",
       "      <td>A009</td>\n",
       "      <td>USA</td>\n",
       "      <td>2020-01-30 00:10:00</td>\n",
       "      <td>False</td>\n",
       "    </tr>\n",
       "    <tr>\n",
       "      <th>9</th>\n",
       "      <td>A010</td>\n",
       "      <td>USA</td>\n",
       "      <td>2020-02-01 01:12:00</td>\n",
       "      <td>True</td>\n",
       "    </tr>\n",
       "  </tbody>\n",
       "</table>\n",
       "</div>"
      ],
      "text/plain": [
       "  Request_Number Location  Approved_Date_Time  Is_Weekend\n",
       "0           A001      USA 2020-02-01 02:43:00        True\n",
       "1           A002      USA 2020-01-29 23:18:00       False\n",
       "2           A003      USA 2020-02-01 02:55:00        True\n",
       "3           A004      USA 2020-02-01 04:06:00        True\n",
       "4           A005      USA 2020-01-30 00:12:00       False\n",
       "5           A006      USA 2020-02-05 00:00:00       False\n",
       "6           A007      USA 2020-01-30 00:11:00       False\n",
       "7           A008      USA 2020-02-01 03:44:00        True\n",
       "8           A009      USA 2020-01-30 00:10:00       False\n",
       "9           A010      USA 2020-02-01 01:12:00        True"
      ]
     },
     "execution_count": 20,
     "metadata": {},
     "output_type": "execute_result"
    }
   ],
   "source": [
    "sla_df_80.head(10)"
   ]
  },
  {
   "cell_type": "code",
   "execution_count": 21,
   "metadata": {},
   "outputs": [
    {
     "data": {
      "text/html": [
       "<div>\n",
       "<style scoped>\n",
       "    .dataframe tbody tr th:only-of-type {\n",
       "        vertical-align: middle;\n",
       "    }\n",
       "\n",
       "    .dataframe tbody tr th {\n",
       "        vertical-align: top;\n",
       "    }\n",
       "\n",
       "    .dataframe thead th {\n",
       "        text-align: right;\n",
       "    }\n",
       "</style>\n",
       "<table border=\"1\" class=\"dataframe\">\n",
       "  <thead>\n",
       "    <tr style=\"text-align: right;\">\n",
       "      <th></th>\n",
       "      <th>Request_Number</th>\n",
       "      <th>Location</th>\n",
       "      <th>Approved_Date_Time</th>\n",
       "      <th>Is_Weekend</th>\n",
       "    </tr>\n",
       "  </thead>\n",
       "  <tbody>\n",
       "    <tr>\n",
       "      <th>75</th>\n",
       "      <td>A076</td>\n",
       "      <td>Singapore</td>\n",
       "      <td>2020-01-30 10:39:00</td>\n",
       "      <td>False</td>\n",
       "    </tr>\n",
       "    <tr>\n",
       "      <th>76</th>\n",
       "      <td>A077</td>\n",
       "      <td>Singapore</td>\n",
       "      <td>2020-01-30 10:39:00</td>\n",
       "      <td>False</td>\n",
       "    </tr>\n",
       "    <tr>\n",
       "      <th>77</th>\n",
       "      <td>A078</td>\n",
       "      <td>Singapore</td>\n",
       "      <td>2020-01-30 20:23:00</td>\n",
       "      <td>False</td>\n",
       "    </tr>\n",
       "    <tr>\n",
       "      <th>78</th>\n",
       "      <td>A079</td>\n",
       "      <td>Singapore</td>\n",
       "      <td>2020-01-30 05:47:00</td>\n",
       "      <td>False</td>\n",
       "    </tr>\n",
       "    <tr>\n",
       "      <th>79</th>\n",
       "      <td>A080</td>\n",
       "      <td>Singapore</td>\n",
       "      <td>2020-01-30 22:58:00</td>\n",
       "      <td>False</td>\n",
       "    </tr>\n",
       "  </tbody>\n",
       "</table>\n",
       "</div>"
      ],
      "text/plain": [
       "   Request_Number   Location  Approved_Date_Time  Is_Weekend\n",
       "75           A076  Singapore 2020-01-30 10:39:00       False\n",
       "76           A077  Singapore 2020-01-30 10:39:00       False\n",
       "77           A078  Singapore 2020-01-30 20:23:00       False\n",
       "78           A079  Singapore 2020-01-30 05:47:00       False\n",
       "79           A080  Singapore 2020-01-30 22:58:00       False"
      ]
     },
     "execution_count": 21,
     "metadata": {},
     "output_type": "execute_result"
    }
   ],
   "source": [
    "sla_df_80.tail()"
   ]
  },
  {
   "cell_type": "markdown",
   "metadata": {},
   "source": [
    "#### Sort Dataframe by Approved_Date_Time"
   ]
  },
  {
   "cell_type": "code",
   "execution_count": 22,
   "metadata": {},
   "outputs": [],
   "source": [
    "# sla_df_80.sort_values(by='Approved_Date_Time',inplace=True)\n",
    "# sla_df_80.head()"
   ]
  },
  {
   "cell_type": "markdown",
   "metadata": {},
   "source": [
    "#### Format of `Approved_Date_Time` is yyyy-mm-dd"
   ]
  },
  {
   "cell_type": "code",
   "execution_count": 23,
   "metadata": {},
   "outputs": [],
   "source": [
    "# sla_df_80.tail()"
   ]
  },
  {
   "cell_type": "code",
   "execution_count": 24,
   "metadata": {},
   "outputs": [],
   "source": [
    "sla_df_80['Time'] = sla_df_80.Approved_Date_Time.dt.time"
   ]
  },
  {
   "cell_type": "code",
   "execution_count": 25,
   "metadata": {},
   "outputs": [
    {
     "data": {
      "text/plain": [
       "Request_Number                object\n",
       "Location                      object\n",
       "Approved_Date_Time    datetime64[ns]\n",
       "Is_Weekend                      bool\n",
       "Time                          object\n",
       "dtype: object"
      ]
     },
     "execution_count": 25,
     "metadata": {},
     "output_type": "execute_result"
    }
   ],
   "source": [
    "sla_df_80.dtypes"
   ]
  },
  {
   "cell_type": "code",
   "execution_count": 26,
   "metadata": {},
   "outputs": [],
   "source": [
    "# int(current_date.strftime(\"%Y%m%d%H%M%S\")"
   ]
  },
  {
   "cell_type": "code",
   "execution_count": 27,
   "metadata": {},
   "outputs": [],
   "source": [
    "# sla_df_80['Time_Int']=sla_df_80.Time.strftime(\"%H%M%S\")"
   ]
  },
  {
   "cell_type": "code",
   "execution_count": 28,
   "metadata": {},
   "outputs": [],
   "source": [
    "# df['time'] = df['time'].apply(lambda x: x.value)\n",
    "# df['time'].apply(lambda x: x.value)\n",
    "# sla_df_80['Date_Int1']=sla_df_80['Approved_Date_Time'].apply(lambda x: x.value)\n",
    "# sla_df_80.head(2)"
   ]
  },
  {
   "cell_type": "code",
   "execution_count": 29,
   "metadata": {},
   "outputs": [],
   "source": [
    "# sla_df_80['Date_Int2'] = pd.to_datetime(sla_df_80['Approved_Date_Time']).astype(int)/ 10**9\n",
    "# sla_df_80.head(2)\n",
    "# sla_df_80.tail()"
   ]
  },
  {
   "cell_type": "code",
   "execution_count": 30,
   "metadata": {},
   "outputs": [],
   "source": [
    "sla_df_80['Date'] = sla_df_80.Approved_Date_Time.dt.date"
   ]
  },
  {
   "cell_type": "code",
   "execution_count": 31,
   "metadata": {},
   "outputs": [
    {
     "data": {
      "text/html": [
       "<div>\n",
       "<style scoped>\n",
       "    .dataframe tbody tr th:only-of-type {\n",
       "        vertical-align: middle;\n",
       "    }\n",
       "\n",
       "    .dataframe tbody tr th {\n",
       "        vertical-align: top;\n",
       "    }\n",
       "\n",
       "    .dataframe thead th {\n",
       "        text-align: right;\n",
       "    }\n",
       "</style>\n",
       "<table border=\"1\" class=\"dataframe\">\n",
       "  <thead>\n",
       "    <tr style=\"text-align: right;\">\n",
       "      <th></th>\n",
       "      <th>Request_Number</th>\n",
       "      <th>Location</th>\n",
       "      <th>Approved_Date_Time</th>\n",
       "      <th>Is_Weekend</th>\n",
       "      <th>Time</th>\n",
       "      <th>Date</th>\n",
       "    </tr>\n",
       "  </thead>\n",
       "  <tbody>\n",
       "    <tr>\n",
       "      <th>0</th>\n",
       "      <td>A001</td>\n",
       "      <td>USA</td>\n",
       "      <td>2020-02-01 02:43:00</td>\n",
       "      <td>True</td>\n",
       "      <td>02:43:00</td>\n",
       "      <td>2020-02-01</td>\n",
       "    </tr>\n",
       "    <tr>\n",
       "      <th>1</th>\n",
       "      <td>A002</td>\n",
       "      <td>USA</td>\n",
       "      <td>2020-01-29 23:18:00</td>\n",
       "      <td>False</td>\n",
       "      <td>23:18:00</td>\n",
       "      <td>2020-01-29</td>\n",
       "    </tr>\n",
       "  </tbody>\n",
       "</table>\n",
       "</div>"
      ],
      "text/plain": [
       "  Request_Number Location  Approved_Date_Time  Is_Weekend      Time  \\\n",
       "0           A001      USA 2020-02-01 02:43:00        True  02:43:00   \n",
       "1           A002      USA 2020-01-29 23:18:00       False  23:18:00   \n",
       "\n",
       "         Date  \n",
       "0  2020-02-01  \n",
       "1  2020-01-29  "
      ]
     },
     "execution_count": 31,
     "metadata": {},
     "output_type": "execute_result"
    }
   ],
   "source": [
    "sla_df_80.head(2)"
   ]
  },
  {
   "cell_type": "code",
   "execution_count": 32,
   "metadata": {},
   "outputs": [
    {
     "name": "stdout",
     "output_type": "stream",
     "text": [
      "<class 'pandas.core.frame.DataFrame'>\n",
      "RangeIndex: 80 entries, 0 to 79\n",
      "Data columns (total 6 columns):\n",
      " #   Column              Non-Null Count  Dtype         \n",
      "---  ------              --------------  -----         \n",
      " 0   Request_Number      80 non-null     object        \n",
      " 1   Location            80 non-null     object        \n",
      " 2   Approved_Date_Time  80 non-null     datetime64[ns]\n",
      " 3   Is_Weekend          80 non-null     bool          \n",
      " 4   Time                80 non-null     object        \n",
      " 5   Date                80 non-null     object        \n",
      "dtypes: bool(1), datetime64[ns](1), object(4)\n",
      "memory usage: 3.3+ KB\n"
     ]
    }
   ],
   "source": [
    "sla_df_80.info()"
   ]
  },
  {
   "cell_type": "code",
   "execution_count": 33,
   "metadata": {},
   "outputs": [],
   "source": [
    "# startTime=08:00:00\n",
    "# endTime=17:00:00\n",
    "# midTime=13:00:00\n",
    "# sla_duration=4"
   ]
  },
  {
   "cell_type": "code",
   "execution_count": 34,
   "metadata": {},
   "outputs": [
    {
     "name": "stdout",
     "output_type": "stream",
     "text": [
      "2022-01-10 08:00:00\n"
     ]
    },
    {
     "data": {
      "text/plain": [
       "pandas._libs.tslibs.timestamps.Timestamp"
      ]
     },
     "execution_count": 34,
     "metadata": {},
     "output_type": "execute_result"
    }
   ],
   "source": [
    "startTime=pd.to_datetime(\"08:00:00\")\n",
    "print(startTime)\n",
    "startTime=pd.to_datetime(startTime)\n",
    "type(startTime)"
   ]
  },
  {
   "cell_type": "code",
   "execution_count": 35,
   "metadata": {},
   "outputs": [],
   "source": [
    "# This code is rough skeleton algorithm\n",
    "# startTime=8am\n",
    "# endTime=5pm\n",
    "# midTime=1pm\n",
    "# sla_duration=4\n",
    "def calBreachTime_v1(ticketTime,startTime, endTime, midTime,is_weekend, date,sla_duration):\n",
    "    output=\"\"\n",
    "    if (is_weekend==True):\n",
    "        return output \n",
    "    elif(ticketTime<=startTime and is_weekend==False):\n",
    "        output=startTime+4\n",
    "    elif(ticketTime>=endTime and is_weekend==False):\n",
    "        output=(date+1)+startTime+4\n",
    "    elif(ticketTime<=midTime and ticketTime<=endTime and is_weekend==False):\n",
    "        output=ticketTime+4\n",
    "    elif(ticketTime>midTime and ticketTime<=endTime and is_weekend==False):\n",
    "        var=4-(endTime-ticketTime)\n",
    "        output=(date+1)+startTime+(var)\n",
    "        "
   ]
  },
  {
   "cell_type": "markdown",
   "metadata": {},
   "source": [
    "## Note: How to have function which takes multiple args and returns one output in pandas\n",
    "- https://www.kite.com/python/answers/how-to-apply-a-function-with-multiple-arguments-to-a-pandas-dataframe-in-python\n",
    "- https://stackoverflow.com/questions/19914937/applying-function-with-multiple-arguments-to-create-a-new-pandas-column"
   ]
  },
  {
   "cell_type": "code",
   "execution_count": 36,
   "metadata": {},
   "outputs": [],
   "source": [
    "# def calsum(x,y):\n",
    "#     output=x+y\n",
    "#     return output"
   ]
  },
  {
   "cell_type": "code",
   "execution_count": 37,
   "metadata": {},
   "outputs": [],
   "source": [
    "# calsum(3,2)"
   ]
  },
  {
   "cell_type": "code",
   "execution_count": 38,
   "metadata": {},
   "outputs": [],
   "source": [
    "# sla_df_80['IntCol1']=10\n",
    "# sla_df_80['IntCol2']=10"
   ]
  },
  {
   "cell_type": "code",
   "execution_count": 39,
   "metadata": {},
   "outputs": [
    {
     "data": {
      "text/html": [
       "<div>\n",
       "<style scoped>\n",
       "    .dataframe tbody tr th:only-of-type {\n",
       "        vertical-align: middle;\n",
       "    }\n",
       "\n",
       "    .dataframe tbody tr th {\n",
       "        vertical-align: top;\n",
       "    }\n",
       "\n",
       "    .dataframe thead th {\n",
       "        text-align: right;\n",
       "    }\n",
       "</style>\n",
       "<table border=\"1\" class=\"dataframe\">\n",
       "  <thead>\n",
       "    <tr style=\"text-align: right;\">\n",
       "      <th></th>\n",
       "      <th>Request_Number</th>\n",
       "      <th>Location</th>\n",
       "      <th>Approved_Date_Time</th>\n",
       "      <th>Is_Weekend</th>\n",
       "      <th>Time</th>\n",
       "      <th>Date</th>\n",
       "    </tr>\n",
       "  </thead>\n",
       "  <tbody>\n",
       "    <tr>\n",
       "      <th>0</th>\n",
       "      <td>A001</td>\n",
       "      <td>USA</td>\n",
       "      <td>2020-02-01 02:43:00</td>\n",
       "      <td>True</td>\n",
       "      <td>02:43:00</td>\n",
       "      <td>2020-02-01</td>\n",
       "    </tr>\n",
       "    <tr>\n",
       "      <th>1</th>\n",
       "      <td>A002</td>\n",
       "      <td>USA</td>\n",
       "      <td>2020-01-29 23:18:00</td>\n",
       "      <td>False</td>\n",
       "      <td>23:18:00</td>\n",
       "      <td>2020-01-29</td>\n",
       "    </tr>\n",
       "  </tbody>\n",
       "</table>\n",
       "</div>"
      ],
      "text/plain": [
       "  Request_Number Location  Approved_Date_Time  Is_Weekend      Time  \\\n",
       "0           A001      USA 2020-02-01 02:43:00        True  02:43:00   \n",
       "1           A002      USA 2020-01-29 23:18:00       False  23:18:00   \n",
       "\n",
       "         Date  \n",
       "0  2020-02-01  \n",
       "1  2020-01-29  "
      ]
     },
     "execution_count": 39,
     "metadata": {},
     "output_type": "execute_result"
    }
   ],
   "source": [
    "sla_df_80.head(2)"
   ]
  },
  {
   "cell_type": "code",
   "execution_count": null,
   "metadata": {},
   "outputs": [],
   "source": []
  },
  {
   "cell_type": "markdown",
   "metadata": {},
   "source": [
    "#### Code from stack over flow\n",
    "#### df['new_column'] = np.vectorize(fx)(df['A'], df['B'])\n",
    "- https://stackoverflow.com/questions/19914937/applying-function-with-multiple-arguments-to-create-a-new-pandas-column"
   ]
  },
  {
   "cell_type": "code",
   "execution_count": 40,
   "metadata": {},
   "outputs": [],
   "source": [
    "# sla_df_80['IntCol3']= np.vectorize(calsum)(sla_df_80['IntCol1'], sla_df_80['IntCol2'])"
   ]
  },
  {
   "cell_type": "code",
   "execution_count": 41,
   "metadata": {},
   "outputs": [],
   "source": [
    "# sla_df_80.head()"
   ]
  },
  {
   "cell_type": "code",
   "execution_count": 42,
   "metadata": {},
   "outputs": [],
   "source": [
    "# sla_df_80['IntCol3']=sla_df_80['IntCol1'].apply(calsum, args=(sla_df_80.IntCol2))"
   ]
  },
  {
   "cell_type": "code",
   "execution_count": 43,
   "metadata": {},
   "outputs": [],
   "source": [
    "# sla_df_80.head(2)"
   ]
  },
  {
   "cell_type": "code",
   "execution_count": 44,
   "metadata": {},
   "outputs": [
    {
     "name": "stdout",
     "output_type": "stream",
     "text": [
      "2022-01-10 22:08:23\n",
      "2022-01-11 21:08:23\n"
     ]
    }
   ],
   "source": [
    "from datetime import datetime, timedelta\n",
    "# Increment by hour \n",
    "updated_hour = ( datetime.now() +timedelta( hours=1 )).strftime(\"%Y-%m-%d %H:%M:%S\")\n",
    "print(updated_hour)\n",
    "# Increment by day\n",
    "updated_date = ( datetime.now() +timedelta( days=1 )).strftime(\"%Y-%m-%d %H:%M:%S\")\n",
    "print(updated_date)"
   ]
  },
  {
   "cell_type": "markdown",
   "metadata": {},
   "source": [
    "### Create required variables such as startTime, endTime, midTime"
   ]
  },
  {
   "cell_type": "code",
   "execution_count": 45,
   "metadata": {},
   "outputs": [
    {
     "data": {
      "text/html": [
       "<div>\n",
       "<style scoped>\n",
       "    .dataframe tbody tr th:only-of-type {\n",
       "        vertical-align: middle;\n",
       "    }\n",
       "\n",
       "    .dataframe tbody tr th {\n",
       "        vertical-align: top;\n",
       "    }\n",
       "\n",
       "    .dataframe thead th {\n",
       "        text-align: right;\n",
       "    }\n",
       "</style>\n",
       "<table border=\"1\" class=\"dataframe\">\n",
       "  <thead>\n",
       "    <tr style=\"text-align: right;\">\n",
       "      <th></th>\n",
       "      <th>Request_Number</th>\n",
       "      <th>Location</th>\n",
       "      <th>Approved_Date_Time</th>\n",
       "      <th>Is_Weekend</th>\n",
       "      <th>Time</th>\n",
       "      <th>Date</th>\n",
       "      <th>startTime</th>\n",
       "      <th>endTime</th>\n",
       "      <th>midTime</th>\n",
       "    </tr>\n",
       "  </thead>\n",
       "  <tbody>\n",
       "    <tr>\n",
       "      <th>0</th>\n",
       "      <td>A001</td>\n",
       "      <td>USA</td>\n",
       "      <td>2020-02-01 02:43:00</td>\n",
       "      <td>True</td>\n",
       "      <td>02:43:00</td>\n",
       "      <td>2020-02-01</td>\n",
       "      <td>2020-02-01 08:00:00</td>\n",
       "      <td>2020-02-01 17:00:00</td>\n",
       "      <td>2020-02-01 13:00:00</td>\n",
       "    </tr>\n",
       "    <tr>\n",
       "      <th>1</th>\n",
       "      <td>A002</td>\n",
       "      <td>USA</td>\n",
       "      <td>2020-01-29 23:18:00</td>\n",
       "      <td>False</td>\n",
       "      <td>23:18:00</td>\n",
       "      <td>2020-01-29</td>\n",
       "      <td>2020-01-29 08:00:00</td>\n",
       "      <td>2020-01-29 17:00:00</td>\n",
       "      <td>2020-01-29 13:00:00</td>\n",
       "    </tr>\n",
       "  </tbody>\n",
       "</table>\n",
       "</div>"
      ],
      "text/plain": [
       "  Request_Number Location  Approved_Date_Time  Is_Weekend      Time  \\\n",
       "0           A001      USA 2020-02-01 02:43:00        True  02:43:00   \n",
       "1           A002      USA 2020-01-29 23:18:00       False  23:18:00   \n",
       "\n",
       "         Date           startTime             endTime             midTime  \n",
       "0  2020-02-01 2020-02-01 08:00:00 2020-02-01 17:00:00 2020-02-01 13:00:00  \n",
       "1  2020-01-29 2020-01-29 08:00:00 2020-01-29 17:00:00 2020-01-29 13:00:00  "
      ]
     },
     "execution_count": 45,
     "metadata": {},
     "output_type": "execute_result"
    }
   ],
   "source": [
    "sla_df_80['startTime']=pd.to_datetime(sla_df_80.Date.astype(str)+' '+\"08:00:00\")\n",
    "sla_df_80['endTime']=pd.to_datetime(sla_df_80.Date.astype(str)+' '+\"17:00:00\")\n",
    "sla_df_80['midTime']=pd.to_datetime(sla_df_80.Date.astype(str)+' '+\"13:00:00\")\n",
    "sla_df_80.head(2)"
   ]
  },
  {
   "cell_type": "code",
   "execution_count": 46,
   "metadata": {},
   "outputs": [
    {
     "name": "stdout",
     "output_type": "stream",
     "text": [
      "<class 'pandas.core.frame.DataFrame'>\n",
      "RangeIndex: 80 entries, 0 to 79\n",
      "Data columns (total 9 columns):\n",
      " #   Column              Non-Null Count  Dtype         \n",
      "---  ------              --------------  -----         \n",
      " 0   Request_Number      80 non-null     object        \n",
      " 1   Location            80 non-null     object        \n",
      " 2   Approved_Date_Time  80 non-null     datetime64[ns]\n",
      " 3   Is_Weekend          80 non-null     bool          \n",
      " 4   Time                80 non-null     object        \n",
      " 5   Date                80 non-null     object        \n",
      " 6   startTime           80 non-null     datetime64[ns]\n",
      " 7   endTime             80 non-null     datetime64[ns]\n",
      " 8   midTime             80 non-null     datetime64[ns]\n",
      "dtypes: bool(1), datetime64[ns](4), object(4)\n",
      "memory usage: 5.2+ KB\n"
     ]
    }
   ],
   "source": [
    "sla_df_80.info()"
   ]
  },
  {
   "cell_type": "code",
   "execution_count": 47,
   "metadata": {},
   "outputs": [],
   "source": [
    "def calBreachTime_v2(ticketTime,startTime, endTime, midTime,is_weekend):\n",
    "    sla_duration=4\n",
    "    output=\"\"\n",
    "    if ((is_weekend==True)):\n",
    "        output=output\n",
    "    elif(ticketTime<=startTime and is_weekend==False):\n",
    "        output=startTime+timedelta( hours=sla_duration )\n",
    "#         output=startTime+4\n",
    "    elif(ticketTime>=endTime and is_weekend==False):\n",
    "        output=startTime+timedelta(days=1)+timedelta( hours=sla_duration )\n",
    "#         output=(date+1)+startTime+4\n",
    "    elif(ticketTime<=midTime and is_weekend==False):\n",
    "        output=ticketTime+timedelta( hours=sla_duration )\n",
    "#         output=ticketTime+4\n",
    "    elif(ticketTime>midTime and ticketTime<=endTime and is_weekend==False):\n",
    "        var=4-(endTime-ticketTime)\n",
    "        output=startTime+timedelta(days=1)+timedelta( hours=var )\n",
    "#         output=(date+1)+startTime+(var)\n",
    "    return output        "
   ]
  },
  {
   "cell_type": "code",
   "execution_count": 48,
   "metadata": {},
   "outputs": [],
   "source": [
    "# sla_df_80['Breach_DateTime']=sla_df_80['Approved_Date_Time'].apply(calBreachTime_v2, args=(sla_df_80.startTime, sla_df_80.endTime,sla_df_80.midTime,sla_df_80.Is_Weekend,4))"
   ]
  },
  {
   "cell_type": "code",
   "execution_count": 49,
   "metadata": {},
   "outputs": [],
   "source": [
    "# sla_df_80['Breach_Time']= np.vectorize(calBreachTime_v2)(sla_df_80['Approved_Date_Time'], sla_df_80['startTime'],sla_df_80['endTime'],sla_df_80['midTime'],sla_df_80['Is_Weekend'],4)"
   ]
  },
  {
   "cell_type": "code",
   "execution_count": 50,
   "metadata": {},
   "outputs": [],
   "source": [
    "#  df['newcolumn'] = df.apply(lambda x: fxy(x['A'], x['B']), axis=1)"
   ]
  },
  {
   "cell_type": "code",
   "execution_count": 51,
   "metadata": {},
   "outputs": [],
   "source": [
    "sla_df_80['Breach_Time']=sla_df_80.apply(lambda x: calBreachTime_v2(x['Approved_Date_Time'], x['startTime'], x['endTime'], x['midTime'], x['Is_Weekend']), axis=1)"
   ]
  },
  {
   "cell_type": "code",
   "execution_count": 52,
   "metadata": {},
   "outputs": [
    {
     "data": {
      "text/html": [
       "<div>\n",
       "<style scoped>\n",
       "    .dataframe tbody tr th:only-of-type {\n",
       "        vertical-align: middle;\n",
       "    }\n",
       "\n",
       "    .dataframe tbody tr th {\n",
       "        vertical-align: top;\n",
       "    }\n",
       "\n",
       "    .dataframe thead th {\n",
       "        text-align: right;\n",
       "    }\n",
       "</style>\n",
       "<table border=\"1\" class=\"dataframe\">\n",
       "  <thead>\n",
       "    <tr style=\"text-align: right;\">\n",
       "      <th></th>\n",
       "      <th>Request_Number</th>\n",
       "      <th>Location</th>\n",
       "      <th>Approved_Date_Time</th>\n",
       "      <th>Is_Weekend</th>\n",
       "      <th>Time</th>\n",
       "      <th>Date</th>\n",
       "      <th>startTime</th>\n",
       "      <th>endTime</th>\n",
       "      <th>midTime</th>\n",
       "      <th>Breach_Time</th>\n",
       "    </tr>\n",
       "  </thead>\n",
       "  <tbody>\n",
       "    <tr>\n",
       "      <th>0</th>\n",
       "      <td>A001</td>\n",
       "      <td>USA</td>\n",
       "      <td>2020-02-01 02:43:00</td>\n",
       "      <td>True</td>\n",
       "      <td>02:43:00</td>\n",
       "      <td>2020-02-01</td>\n",
       "      <td>2020-02-01 08:00:00</td>\n",
       "      <td>2020-02-01 17:00:00</td>\n",
       "      <td>2020-02-01 13:00:00</td>\n",
       "      <td>NaT</td>\n",
       "    </tr>\n",
       "    <tr>\n",
       "      <th>1</th>\n",
       "      <td>A002</td>\n",
       "      <td>USA</td>\n",
       "      <td>2020-01-29 23:18:00</td>\n",
       "      <td>False</td>\n",
       "      <td>23:18:00</td>\n",
       "      <td>2020-01-29</td>\n",
       "      <td>2020-01-29 08:00:00</td>\n",
       "      <td>2020-01-29 17:00:00</td>\n",
       "      <td>2020-01-29 13:00:00</td>\n",
       "      <td>2020-01-30 12:00:00</td>\n",
       "    </tr>\n",
       "    <tr>\n",
       "      <th>2</th>\n",
       "      <td>A003</td>\n",
       "      <td>USA</td>\n",
       "      <td>2020-02-01 02:55:00</td>\n",
       "      <td>True</td>\n",
       "      <td>02:55:00</td>\n",
       "      <td>2020-02-01</td>\n",
       "      <td>2020-02-01 08:00:00</td>\n",
       "      <td>2020-02-01 17:00:00</td>\n",
       "      <td>2020-02-01 13:00:00</td>\n",
       "      <td>NaT</td>\n",
       "    </tr>\n",
       "    <tr>\n",
       "      <th>3</th>\n",
       "      <td>A004</td>\n",
       "      <td>USA</td>\n",
       "      <td>2020-02-01 04:06:00</td>\n",
       "      <td>True</td>\n",
       "      <td>04:06:00</td>\n",
       "      <td>2020-02-01</td>\n",
       "      <td>2020-02-01 08:00:00</td>\n",
       "      <td>2020-02-01 17:00:00</td>\n",
       "      <td>2020-02-01 13:00:00</td>\n",
       "      <td>NaT</td>\n",
       "    </tr>\n",
       "    <tr>\n",
       "      <th>4</th>\n",
       "      <td>A005</td>\n",
       "      <td>USA</td>\n",
       "      <td>2020-01-30 00:12:00</td>\n",
       "      <td>False</td>\n",
       "      <td>00:12:00</td>\n",
       "      <td>2020-01-30</td>\n",
       "      <td>2020-01-30 08:00:00</td>\n",
       "      <td>2020-01-30 17:00:00</td>\n",
       "      <td>2020-01-30 13:00:00</td>\n",
       "      <td>2020-01-30 12:00:00</td>\n",
       "    </tr>\n",
       "  </tbody>\n",
       "</table>\n",
       "</div>"
      ],
      "text/plain": [
       "  Request_Number Location  Approved_Date_Time  Is_Weekend      Time  \\\n",
       "0           A001      USA 2020-02-01 02:43:00        True  02:43:00   \n",
       "1           A002      USA 2020-01-29 23:18:00       False  23:18:00   \n",
       "2           A003      USA 2020-02-01 02:55:00        True  02:55:00   \n",
       "3           A004      USA 2020-02-01 04:06:00        True  04:06:00   \n",
       "4           A005      USA 2020-01-30 00:12:00       False  00:12:00   \n",
       "\n",
       "         Date           startTime             endTime             midTime  \\\n",
       "0  2020-02-01 2020-02-01 08:00:00 2020-02-01 17:00:00 2020-02-01 13:00:00   \n",
       "1  2020-01-29 2020-01-29 08:00:00 2020-01-29 17:00:00 2020-01-29 13:00:00   \n",
       "2  2020-02-01 2020-02-01 08:00:00 2020-02-01 17:00:00 2020-02-01 13:00:00   \n",
       "3  2020-02-01 2020-02-01 08:00:00 2020-02-01 17:00:00 2020-02-01 13:00:00   \n",
       "4  2020-01-30 2020-01-30 08:00:00 2020-01-30 17:00:00 2020-01-30 13:00:00   \n",
       "\n",
       "          Breach_Time  \n",
       "0                 NaT  \n",
       "1 2020-01-30 12:00:00  \n",
       "2                 NaT  \n",
       "3                 NaT  \n",
       "4 2020-01-30 12:00:00  "
      ]
     },
     "execution_count": 52,
     "metadata": {},
     "output_type": "execute_result"
    }
   ],
   "source": [
    "sla_df_80.head()"
   ]
  },
  {
   "cell_type": "code",
   "execution_count": 53,
   "metadata": {},
   "outputs": [
    {
     "data": {
      "text/html": [
       "<div>\n",
       "<style scoped>\n",
       "    .dataframe tbody tr th:only-of-type {\n",
       "        vertical-align: middle;\n",
       "    }\n",
       "\n",
       "    .dataframe tbody tr th {\n",
       "        vertical-align: top;\n",
       "    }\n",
       "\n",
       "    .dataframe thead th {\n",
       "        text-align: right;\n",
       "    }\n",
       "</style>\n",
       "<table border=\"1\" class=\"dataframe\">\n",
       "  <thead>\n",
       "    <tr style=\"text-align: right;\">\n",
       "      <th></th>\n",
       "      <th>Request_Number</th>\n",
       "      <th>Location</th>\n",
       "      <th>Approved_Date_Time</th>\n",
       "      <th>Is_Weekend</th>\n",
       "      <th>Time</th>\n",
       "      <th>Date</th>\n",
       "      <th>startTime</th>\n",
       "      <th>endTime</th>\n",
       "      <th>midTime</th>\n",
       "      <th>Breach_Time</th>\n",
       "    </tr>\n",
       "  </thead>\n",
       "  <tbody>\n",
       "    <tr>\n",
       "      <th>75</th>\n",
       "      <td>A076</td>\n",
       "      <td>Singapore</td>\n",
       "      <td>2020-01-30 10:39:00</td>\n",
       "      <td>False</td>\n",
       "      <td>10:39:00</td>\n",
       "      <td>2020-01-30</td>\n",
       "      <td>2020-01-30 08:00:00</td>\n",
       "      <td>2020-01-30 17:00:00</td>\n",
       "      <td>2020-01-30 13:00:00</td>\n",
       "      <td>2020-01-30 14:39:00</td>\n",
       "    </tr>\n",
       "    <tr>\n",
       "      <th>76</th>\n",
       "      <td>A077</td>\n",
       "      <td>Singapore</td>\n",
       "      <td>2020-01-30 10:39:00</td>\n",
       "      <td>False</td>\n",
       "      <td>10:39:00</td>\n",
       "      <td>2020-01-30</td>\n",
       "      <td>2020-01-30 08:00:00</td>\n",
       "      <td>2020-01-30 17:00:00</td>\n",
       "      <td>2020-01-30 13:00:00</td>\n",
       "      <td>2020-01-30 14:39:00</td>\n",
       "    </tr>\n",
       "    <tr>\n",
       "      <th>77</th>\n",
       "      <td>A078</td>\n",
       "      <td>Singapore</td>\n",
       "      <td>2020-01-30 20:23:00</td>\n",
       "      <td>False</td>\n",
       "      <td>20:23:00</td>\n",
       "      <td>2020-01-30</td>\n",
       "      <td>2020-01-30 08:00:00</td>\n",
       "      <td>2020-01-30 17:00:00</td>\n",
       "      <td>2020-01-30 13:00:00</td>\n",
       "      <td>2020-01-31 12:00:00</td>\n",
       "    </tr>\n",
       "    <tr>\n",
       "      <th>78</th>\n",
       "      <td>A079</td>\n",
       "      <td>Singapore</td>\n",
       "      <td>2020-01-30 05:47:00</td>\n",
       "      <td>False</td>\n",
       "      <td>05:47:00</td>\n",
       "      <td>2020-01-30</td>\n",
       "      <td>2020-01-30 08:00:00</td>\n",
       "      <td>2020-01-30 17:00:00</td>\n",
       "      <td>2020-01-30 13:00:00</td>\n",
       "      <td>2020-01-30 12:00:00</td>\n",
       "    </tr>\n",
       "    <tr>\n",
       "      <th>79</th>\n",
       "      <td>A080</td>\n",
       "      <td>Singapore</td>\n",
       "      <td>2020-01-30 22:58:00</td>\n",
       "      <td>False</td>\n",
       "      <td>22:58:00</td>\n",
       "      <td>2020-01-30</td>\n",
       "      <td>2020-01-30 08:00:00</td>\n",
       "      <td>2020-01-30 17:00:00</td>\n",
       "      <td>2020-01-30 13:00:00</td>\n",
       "      <td>2020-01-31 12:00:00</td>\n",
       "    </tr>\n",
       "  </tbody>\n",
       "</table>\n",
       "</div>"
      ],
      "text/plain": [
       "   Request_Number   Location  Approved_Date_Time  Is_Weekend      Time  \\\n",
       "75           A076  Singapore 2020-01-30 10:39:00       False  10:39:00   \n",
       "76           A077  Singapore 2020-01-30 10:39:00       False  10:39:00   \n",
       "77           A078  Singapore 2020-01-30 20:23:00       False  20:23:00   \n",
       "78           A079  Singapore 2020-01-30 05:47:00       False  05:47:00   \n",
       "79           A080  Singapore 2020-01-30 22:58:00       False  22:58:00   \n",
       "\n",
       "          Date           startTime             endTime             midTime  \\\n",
       "75  2020-01-30 2020-01-30 08:00:00 2020-01-30 17:00:00 2020-01-30 13:00:00   \n",
       "76  2020-01-30 2020-01-30 08:00:00 2020-01-30 17:00:00 2020-01-30 13:00:00   \n",
       "77  2020-01-30 2020-01-30 08:00:00 2020-01-30 17:00:00 2020-01-30 13:00:00   \n",
       "78  2020-01-30 2020-01-30 08:00:00 2020-01-30 17:00:00 2020-01-30 13:00:00   \n",
       "79  2020-01-30 2020-01-30 08:00:00 2020-01-30 17:00:00 2020-01-30 13:00:00   \n",
       "\n",
       "           Breach_Time  \n",
       "75 2020-01-30 14:39:00  \n",
       "76 2020-01-30 14:39:00  \n",
       "77 2020-01-31 12:00:00  \n",
       "78 2020-01-30 12:00:00  \n",
       "79 2020-01-31 12:00:00  "
      ]
     },
     "execution_count": 53,
     "metadata": {},
     "output_type": "execute_result"
    }
   ],
   "source": [
    "sla_df_80.tail()"
   ]
  },
  {
   "cell_type": "markdown",
   "metadata": {},
   "source": [
    "#### Write dataframe to excel"
   ]
  },
  {
   "cell_type": "code",
   "execution_count": 54,
   "metadata": {},
   "outputs": [],
   "source": [
    "#  Mention Relative path to output data set\n",
    "sla_df_80.to_excel(r\"./data/output_data_files/output_data_sla_breach_time.xlsx\")"
   ]
  },
  {
   "cell_type": "markdown",
   "metadata": {},
   "source": [
    "#### Project Complete\n",
    "- This Project is done by `Achal Kagwad`\n",
    "- Contact no: +91-9108302174\n",
    "- Email Id: achal.kagwad@gmail.com\n",
    "- Linked in: https://www.linkedin.com/in/achalkagwad/"
   ]
  },
  {
   "cell_type": "markdown",
   "metadata": {},
   "source": [
    "--- "
   ]
  },
  {
   "cell_type": "code",
   "execution_count": null,
   "metadata": {},
   "outputs": [],
   "source": []
  }
 ],
 "metadata": {
  "kernelspec": {
   "display_name": "Python 3",
   "language": "python",
   "name": "python3"
  },
  "language_info": {
   "codemirror_mode": {
    "name": "ipython",
    "version": 3
   },
   "file_extension": ".py",
   "mimetype": "text/x-python",
   "name": "python",
   "nbconvert_exporter": "python",
   "pygments_lexer": "ipython3",
   "version": "3.8.5"
  }
 },
 "nbformat": 4,
 "nbformat_minor": 4
}
